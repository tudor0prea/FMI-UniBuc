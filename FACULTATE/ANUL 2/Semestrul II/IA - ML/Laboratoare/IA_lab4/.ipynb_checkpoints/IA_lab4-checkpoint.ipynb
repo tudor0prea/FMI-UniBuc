{
 "cells": [
  {
   "cell_type": "code",
   "execution_count": 1,
   "id": "e165d39a",
   "metadata": {},
   "outputs": [],
   "source": [
    "#svc.fit(kernel,...)\n",
    "import numpy as np"
   ]
  },
  {
   "cell_type": "code",
   "execution_count": null,
   "id": "22a63ef2",
   "metadata": {},
   "outputs": [],
   "source": [
    "train_data= np.loadtxt(\"\\data\\svm_train_data.npy\")\n",
    "test_data= np.loadtxt(\"\\data\\svm_train_data.npy\")\n",
    "\n",
    "def normalize_data(train_data, test_data, type=None):\n",
    "    "
   ]
  }
 ],
 "metadata": {
  "kernelspec": {
   "display_name": "Python 3 (ipykernel)",
   "language": "python",
   "name": "python3"
  },
  "language_info": {
   "codemirror_mode": {
    "name": "ipython",
    "version": 3
   },
   "file_extension": ".py",
   "mimetype": "text/x-python",
   "name": "python",
   "nbconvert_exporter": "python",
   "pygments_lexer": "ipython3",
   "version": "3.9.13"
  }
 },
 "nbformat": 4,
 "nbformat_minor": 5
}
