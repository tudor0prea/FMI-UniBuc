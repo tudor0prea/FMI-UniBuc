{
 "cells": [
  {
   "cell_type": "code",
   "execution_count": 1,
   "id": "f6ff5697",
   "metadata": {},
   "outputs": [],
   "source": [
    "#svc.fit(kernel,...)\n",
    "import numpy as np\n",
    "from sklearn import preprocessing"
   ]
  },
  {
   "cell_type": "code",
   "execution_count": 6,
   "id": "0ca3e120",
   "metadata": {},
   "outputs": [
    {
     "ename": "IndentationError",
     "evalue": "expected an indented block (1817009885.py, line 14)",
     "output_type": "error",
     "traceback": [
      "\u001b[1;36m  File \u001b[1;32m\"C:\\Users\\Tudor\\AppData\\Local\\Temp\\ipykernel_26456\\1817009885.py\"\u001b[1;36m, line \u001b[1;32m14\u001b[0m\n\u001b[1;33m    return train_data, test_data\u001b[0m\n\u001b[1;37m    ^\u001b[0m\n\u001b[1;31mIndentationError\u001b[0m\u001b[1;31m:\u001b[0m expected an indented block\n"
     ]
    }
   ],
   "source": [
    "train_data= np.loadtxt(\"\\data\\svm_train_data.npy\")\n",
    "test_data= np.loadtxt(\"\\data\\svm_train_data.npy\")\n",
    "\n",
    "def normalize_data(train_data, test_data, type=None):\n",
    "    scaler=0\n",
    "    if type==\"l1\":\n",
    "        scaler=preprocessing(Normalize,\"L1\")\n",
    "    if type==\"l2\":\n",
    "        scaler=preprocessing(Normalize,\"L2\")\n",
    "    if type==\"standard\":\n",
    "        scaler=preprocessing(Normalize,\"Standard\")\n",
    "    if type==\"None\": #?\n",
    "        \n",
    "    return train_data, test_data\n"
   ]
  },
  {
   "cell_type": "code",
   "execution_count": null,
   "id": "7f0cecb3",
   "metadata": {},
   "outputs": [],
   "source": []
  }
 ],
 "metadata": {
  "kernelspec": {
   "display_name": "Python 3 (ipykernel)",
   "language": "python",
   "name": "python3"
  },
  "language_info": {
   "codemirror_mode": {
    "name": "ipython",
    "version": 3
   },
   "file_extension": ".py",
   "mimetype": "text/x-python",
   "name": "python",
   "nbconvert_exporter": "python",
   "pygments_lexer": "ipython3",
   "version": "3.9.13"
  }
 },
 "nbformat": 4,
 "nbformat_minor": 5
}
