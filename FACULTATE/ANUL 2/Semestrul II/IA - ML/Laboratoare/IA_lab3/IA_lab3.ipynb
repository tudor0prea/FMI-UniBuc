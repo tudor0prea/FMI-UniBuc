{
 "cells": [
  {
   "cell_type": "code",
   "execution_count": 15,
   "id": "73cb9231",
   "metadata": {},
   "outputs": [],
   "source": [
    "import numpy as np"
   ]
  },
  {
   "cell_type": "code",
   "execution_count": 21,
   "id": "a43a06bf",
   "metadata": {},
   "outputs": [],
   "source": [
    "class KnnClasifier:\n",
    "    def __init__(self, train_images, train_labels): \n",
    "        self.train_images = train_images \n",
    "        self.train_labels = train_labels\n",
    "    def classify_image(self, test_image, num_neighbors=3, metric='l2'):\n",
    "        if metric == 'l1':\n",
    "            distances = np.sum(np.abs(self.train_images - test_image), axis=1)\n",
    "        elif metric == 'l2':\n",
    "            distances = np.sqrt(np.sum(((self.train_images - test_image) ** 2),axis=1))\n",
    "        else:\n",
    "            raise Exception(\"Metric not implemented\")\n",
    "        sorted_indices = distances.argsort()\n",
    "        nearest_indices = sorted_indices[:num_neighbors]\n",
    "        nearest_labels = self.train_labels[nearest_indices]\n",
    "        \n",
    "        return np.bincount(nearest_labels).argmax()\n",
    "    def classify_images(self, test_images, num_neighbors=3, metric='l2'):\n",
    "        predicted_labels = [self.classify_image(image,num_neighbors, metric) for image in test_images]\n",
    "        \n",
    "        return np.array(predicted_labels)"
   ]
  },
  {
   "cell_type": "code",
   "execution_count": 17,
   "id": "927fd266",
   "metadata": {},
   "outputs": [],
   "source": []
  },
  {
   "cell_type": "code",
   "execution_count": 18,
   "id": "e2adfd40",
   "metadata": {},
   "outputs": [],
   "source": []
  },
  {
   "cell_type": "code",
   "execution_count": 23,
   "id": "f5cfb359",
   "metadata": {},
   "outputs": [
    {
     "name": "stdout",
     "output_type": "stream",
     "text": [
      "0.898\n"
     ]
    }
   ],
   "source": [
    "knn_clasifier = KnnClasifier(train_images, train_labels)\n",
    "predicted_labels = knn_clasifier.classify_images(test_images, num_neighbors=3, metric=\"l2\")\n",
    "acc = accuracy_score(test_labels, predicted_labels)\n",
    "print(acc)"
   ]
  },
  {
   "cell_type": "code",
   "execution_count": null,
   "id": "256b72de",
   "metadata": {},
   "outputs": [],
   "source": []
  },
  {
   "cell_type": "code",
   "execution_count": null,
   "id": "f9aced34",
   "metadata": {},
   "outputs": [],
   "source": []
  },
  {
   "cell_type": "code",
   "execution_count": null,
   "id": "ffe9f002",
   "metadata": {},
   "outputs": [],
   "source": []
  },
  {
   "cell_type": "code",
   "execution_count": null,
   "id": "2d0fa775",
   "metadata": {},
   "outputs": [],
   "source": []
  },
  {
   "cell_type": "code",
   "execution_count": null,
   "id": "4c9964c3",
   "metadata": {},
   "outputs": [],
   "source": []
  },
  {
   "cell_type": "code",
   "execution_count": 3,
   "id": "82016fca",
   "metadata": {},
   "outputs": [],
   "source": [
    "def accuracy_score(ground_truth_labels, predicted_labels):\n",
    "    return np.mean(ground_truth_labels == predicted_labels)\n",
    "train_images = np.loadtxt(\"data/train_images.txt\")\n",
    "train_labels = np.int32(np.loadtxt(\"data/train_labels.txt\"))\n",
    "test_images = np.loadtxt(\"data/test_images.txt\")\n",
    "test_labels = np.int32(np.loadtxt(\"data/test_labels.txt\"))"
   ]
  },
  {
   "cell_type": "code",
   "execution_count": null,
   "id": "d90f12bf",
   "metadata": {},
   "outputs": [],
   "source": []
  },
  {
   "cell_type": "code",
   "execution_count": null,
   "id": "a174206a",
   "metadata": {},
   "outputs": [],
   "source": []
  },
  {
   "cell_type": "code",
   "execution_count": null,
   "id": "5b237c35",
   "metadata": {},
   "outputs": [],
   "source": []
  },
  {
   "cell_type": "code",
   "execution_count": 6,
   "id": "15da7846",
   "metadata": {},
   "outputs": [
    {
     "name": "stdout",
     "output_type": "stream",
     "text": [
      "(1000, 784)\n",
      "(500, 784)\n"
     ]
    }
   ],
   "source": [
    "print(train_images.shape)\n",
    "print(test_images.shape)"
   ]
  },
  {
   "cell_type": "code",
   "execution_count": 7,
   "id": "6361d84f",
   "metadata": {},
   "outputs": [
    {
     "name": "stdout",
     "output_type": "stream",
     "text": [
      "0.898\n"
     ]
    }
   ],
   "source": []
  },
  {
   "cell_type": "code",
   "execution_count": 8,
   "id": "327bee12",
   "metadata": {},
   "outputs": [],
   "source": [
    "def get_accuracies(train_images, train_labels, test_images, test_labels, metric):\n",
    "    knn_clasifier = KnnClasifier(train_images, train_labels)\n",
    "    predicted_labels = knn_clasifier.classify_images(test_images, metric=metric)\n",
    "    return accuracy_score(test_labels, predicted_labels)\n",
    "acc_l2 = get_accuracies(train_images, train_labels, test_images, test_labels, metric = \"l2\")\n",
    "acc_l1 = get_accuracies(train_images, train_labels, test_images, test_labels, metric = \"l1\")\n",
    " "
   ]
  },
  {
   "cell_type": "code",
   "execution_count": null,
   "id": "a50ff37d",
   "metadata": {},
   "outputs": [],
   "source": []
  },
  {
   "cell_type": "code",
   "execution_count": null,
   "id": "b47c61a3",
   "metadata": {},
   "outputs": [],
   "source": []
  }
 ],
 "metadata": {
  "kernelspec": {
   "display_name": "Python 3 (ipykernel)",
   "language": "python",
   "name": "python3"
  },
  "language_info": {
   "codemirror_mode": {
    "name": "ipython",
    "version": 3
   },
   "file_extension": ".py",
   "mimetype": "text/x-python",
   "name": "python",
   "nbconvert_exporter": "python",
   "pygments_lexer": "ipython3",
   "version": "3.9.13"
  }
 },
 "nbformat": 4,
 "nbformat_minor": 5
}
