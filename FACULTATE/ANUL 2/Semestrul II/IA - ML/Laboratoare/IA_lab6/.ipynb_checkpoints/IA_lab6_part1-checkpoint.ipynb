{
 "cells": [
  {
   "cell_type": "code",
   "execution_count": 1,
   "id": "19adf26f",
   "metadata": {},
   "outputs": [],
   "source": [
    "#exercitiul 2"
   ]
  },
  {
   "cell_type": "code",
   "execution_count": 6,
   "id": "a574d558",
   "metadata": {
    "scrolled": true
   },
   "outputs": [
    {
     "ename": "SyntaxError",
     "evalue": "cannot assign to set display (430405092.py, line 3)",
     "output_type": "error",
     "traceback": [
      "\u001b[1;36m  File \u001b[1;32m\"C:\\Users\\Tudor\\AppData\\Local\\Temp\\ipykernel_19488\\430405092.py\"\u001b[1;36m, line \u001b[1;32m3\u001b[0m\n\u001b[1;33m    x ={ {0, 0}, {0, 1}, {1, 0}, {1, 1} }, y = {-1, 1, 1, 1}\u001b[0m\n\u001b[1;37m       ^\u001b[0m\n\u001b[1;31mSyntaxError\u001b[0m\u001b[1;31m:\u001b[0m cannot assign to set display\n"
     ]
    }
   ],
   "source": [
    "import matplotlib.pyplot as plt\n",
    "import numpy as np\n",
    "\n",
    "x ={ {0, 0}, {0, 1}, {1, 0}, {1, 1} }, y = {-1, 1, 1, 1}\n",
    "\n",
    "W = { 0, 0, 0, 0, 0};\n",
    "\n",
    "b=0;\n"
   ]
  },
  {
   "cell_type": "code",
   "execution_count": 11,
   "id": "7b0ed268",
   "metadata": {},
   "outputs": [
    {
     "ename": "NameError",
     "evalue": "name 'E' is not defined",
     "output_type": "error",
     "traceback": [
      "\u001b[1;31m---------------------------------------------------------------------------\u001b[0m",
      "\u001b[1;31mNameError\u001b[0m                                 Traceback (most recent call last)",
      "\u001b[1;32m~\\AppData\\Local\\Temp\\ipykernel_19488\\3006484528.py\u001b[0m in \u001b[0;36m<module>\u001b[1;34m\u001b[0m\n\u001b[1;32m----> 1\u001b[1;33m \u001b[1;32mfor\u001b[0m \u001b[0me\u001b[0m \u001b[1;32min\u001b[0m \u001b[1;36m0\u001b[0m\u001b[1;33m,\u001b[0m\u001b[0mE\u001b[0m\u001b[1;33m-\u001b[0m\u001b[1;36m1\u001b[0m \u001b[1;33m:\u001b[0m\u001b[1;33m\u001b[0m\u001b[1;33m\u001b[0m\u001b[0m\n\u001b[0m\u001b[0;32m      2\u001b[0m     \u001b[1;32mfor\u001b[0m \u001b[0mt\u001b[0m \u001b[1;32min\u001b[0m \u001b[1;36m0\u001b[0m\u001b[1;33m,\u001b[0m \u001b[0mT\u001b[0m\u001b[1;33m-\u001b[0m\u001b[1;36m1\u001b[0m \u001b[1;33m:\u001b[0m\u001b[1;33m\u001b[0m\u001b[1;33m\u001b[0m\u001b[0m\n\u001b[0;32m      3\u001b[0m         \u001b[0mx\u001b[0m\u001b[1;33m[\u001b[0m\u001b[0mt\u001b[0m\u001b[1;33m]\u001b[0m\u001b[1;33m=\u001b[0m\u001b[0mnp\u001b[0m\u001b[1;33m.\u001b[0m\u001b[0marray\u001b[0m\u001b[1;33m(\u001b[0m\u001b[0mx\u001b[0m\u001b[1;33m[\u001b[0m\u001b[0mt\u001b[0m\u001b[1;33m]\u001b[0m\u001b[1;33m)\u001b[0m\u001b[1;33m\u001b[0m\u001b[1;33m\u001b[0m\u001b[0m\n\u001b[0;32m      4\u001b[0m         \u001b[0myhat\u001b[0m\u001b[1;33m=\u001b[0m \u001b[0mx\u001b[0m\u001b[1;33m[\u001b[0m\u001b[0mt\u001b[0m\u001b[1;33m]\u001b[0m\u001b[1;33m*\u001b[0m\u001b[0mW\u001b[0m\u001b[1;33m+\u001b[0m\u001b[0mb\u001b[0m\u001b[1;33m\u001b[0m\u001b[1;33m\u001b[0m\u001b[0m\n\u001b[0;32m      5\u001b[0m         \u001b[0mloss\u001b[0m\u001b[1;33m=\u001b[0m\u001b[1;33m(\u001b[0m\u001b[0myhat\u001b[0m \u001b[1;33m-\u001b[0m \u001b[0my\u001b[0m\u001b[1;33m[\u001b[0m\u001b[0mt\u001b[0m\u001b[1;33m]\u001b[0m\u001b[1;33m)\u001b[0m\u001b[1;33m**\u001b[0m\u001b[1;36m2\u001b[0m\u001b[1;33m/\u001b[0m\u001b[1;36m2\u001b[0m\u001b[1;33m\u001b[0m\u001b[1;33m\u001b[0m\u001b[0m\n",
      "\u001b[1;31mNameError\u001b[0m: name 'E' is not defined"
     ]
    }
   ],
   "source": [
    "for e in 0,E-1 :\n",
    "    for t in 0, T-1 :\n",
    "        x[t]=np.array(x[t])\n",
    "        yhat= x[t]*W+b\n",
    "        loss=(yhat - y[t])**2/2\n",
    "        W=W-miu*(yhat-y[t])*x[t]\n",
    "        b=b-miu*(yhat-y[t])*x[t]\n",
    "        "
   ]
  },
  {
   "cell_type": "code",
   "execution_count": 9,
   "id": "67241ca0",
   "metadata": {},
   "outputs": [
    {
     "ename": "IndentationError",
     "evalue": "expected an indented block (3761553189.py, line 16)",
     "output_type": "error",
     "traceback": [
      "\u001b[1;36m  File \u001b[1;32m\"C:\\Users\\Tudor\\AppData\\Local\\Temp\\ipykernel_19488\\3761553189.py\"\u001b[1;36m, line \u001b[1;32m16\u001b[0m\n\u001b[1;33m    color = 'b'\u001b[0m\n\u001b[1;37m    ^\u001b[0m\n\u001b[1;31mIndentationError\u001b[0m\u001b[1;31m:\u001b[0m expected an indented block\n"
     ]
    }
   ],
   "source": [
    "\n",
    "def compute_y(x, W, bias): \n",
    "     # dreapta de decizie\n",
    "     # [x, y] * [W[0], W[1]] + b = 0\n",
    "     return (-x * W[0] - bias) / (W[1] + 1e-10)\n",
    "\n",
    "def plot_decision_boundary(X, y , W, b, current_x, current_y): \n",
    "     x1 = -0.5\n",
    "     y1 = compute_y(x1, W, b) \n",
    "     x2 = 0.5\n",
    "     y2 = compute_y(x2, W, b)\n",
    "     # sterge continutul ferestrei\n",
    "     plt.clf()\n",
    "     # ploteaza multimea de antrenare\n",
    "     color = 'r'\n",
    "     if(current_y == -1):\n",
    "     color = 'b'\n",
    "     plt.ylim((-1, 2)) \n",
    "     plt.xlim((-1, 2)) \n",
    "     plt.plot(X[y == -1, 0], X[y == -1, 1], 'b+')\n",
    "     plt.plot(X[y == 1, 0], X[y == 1, 1], 'r+')\n",
    "     # ploteaza exemplul curent\n",
    "     plt.plot(current_x[0], current_x[1], color+'s')\n",
    "     # afisarea dreptei de decizie\n",
    "     plt.plot([x1, x2] ,[y1, y2], 'black')\n",
    "     plt.show(block=False)\n",
    "     plt.pause(0.3)\n",
    "\n",
    "    "
   ]
  },
  {
   "cell_type": "code",
   "execution_count": 8,
   "id": "61cce468",
   "metadata": {},
   "outputs": [],
   "source": [
    "#exercitiul 3"
   ]
  },
  {
   "cell_type": "code",
   "execution_count": null,
   "id": "b5c23219",
   "metadata": {},
   "outputs": [],
   "source": []
  }
 ],
 "metadata": {
  "kernelspec": {
   "display_name": "Python 3 (ipykernel)",
   "language": "python",
   "name": "python3"
  },
  "language_info": {
   "codemirror_mode": {
    "name": "ipython",
    "version": 3
   },
   "file_extension": ".py",
   "mimetype": "text/x-python",
   "name": "python",
   "nbconvert_exporter": "python",
   "pygments_lexer": "ipython3",
   "version": "3.9.13"
  }
 },
 "nbformat": 4,
 "nbformat_minor": 5
}
