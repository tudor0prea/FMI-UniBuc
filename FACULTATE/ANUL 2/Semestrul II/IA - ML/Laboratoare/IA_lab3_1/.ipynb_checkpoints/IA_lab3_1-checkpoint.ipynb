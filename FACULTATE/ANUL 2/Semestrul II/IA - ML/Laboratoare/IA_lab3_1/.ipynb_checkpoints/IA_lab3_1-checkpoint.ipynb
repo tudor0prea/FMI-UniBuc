{
 "cells": [
  {
   "cell_type": "code",
   "execution_count": 1,
   "id": "5e1b4426",
   "metadata": {},
   "outputs": [],
   "source": [
    "import numpy as np;"
   ]
  },
  {
   "cell_type": "code",
   "execution_count": 2,
   "id": "7a41cd93",
   "metadata": {},
   "outputs": [],
   "source": [
    "class KnnClasifier:\n",
    "    \n",
    "    def __init__(self, train_images, train_labels): \n",
    "        self.train_images = train_images \n",
    "        self.train_labels = train_labels\n",
    "    \n",
    "    def classify_image(self, test_image, num_neighbors=3, metric='l2'):\n",
    "        if metric == 'l1':\n",
    "            distances = np.sum(np.abs(self.train_images - test_image), axis=1)\n",
    "        elif metric == 'l2':\n",
    "            distances = np.sqrt(np.sum(((self.train_images - test_image) ** 2),axis=1))\n",
    "        else:\n",
    "            raise Exception(\"Metric not implemented\")\n",
    "        sorted_indices = distances.argsort()\n",
    "        nearest_indices = sorted_indices[:num_neighbors]\n",
    "        nearest_labels = self.train_labels[nearest_indices]\n",
    "        \n",
    "        return np.bincount(nearest_labels).argmax()\n",
    "    \n",
    "    def classify_images(self, test_images, num_neighbors=3, metric='l2'):\n",
    "        predicted_labels = [self.classify_image(image,num_neighbors, metric) for image in test_images]\n",
    "        \n",
    "        return np.array(predicted_labels)"
   ]
  }
 ],
 "metadata": {
  "kernelspec": {
   "display_name": "Python 3 (ipykernel)",
   "language": "python",
   "name": "python3"
  },
  "language_info": {
   "codemirror_mode": {
    "name": "ipython",
    "version": 3
   },
   "file_extension": ".py",
   "mimetype": "text/x-python",
   "name": "python",
   "nbconvert_exporter": "python",
   "pygments_lexer": "ipython3",
   "version": "3.9.13"
  }
 },
 "nbformat": 4,
 "nbformat_minor": 5
}
